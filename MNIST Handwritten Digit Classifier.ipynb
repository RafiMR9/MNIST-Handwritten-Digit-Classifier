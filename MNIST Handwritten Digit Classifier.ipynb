{
 "cells": [
  {
   "cell_type": "markdown",
   "id": "82d90f44",
   "metadata": {},
   "source": [
    "## MNIST Handwritten Digit Classifier using PyTorch\n",
    "================================================\n",
    "\n",
    "Author: Md Abrar Zahin Rafi\n",
    "\n",
    "Date: October 31, 2025\n",
    "\n",
    "# Description:\n",
    "------------\n",
    "This script implements a fully connected (deep) neural network to classify\n",
    "handwritten digits from the MNIST dataset using PyTorch. The model achieves\n",
    "~95% test accuracy with a compact architecture and strategic dropout.\n",
    "\n",
    "Key Features:\n",
    "- 3 hidden layers (50 units each)\n",
    "- ReLU activations\n",
    "- 70% dropout on final hidden layer (regularization)\n",
    "- Adam optimizer\n",
    "- Normalized input [-1, 1]\n",
    "- Training loss curve visualization\n",
    "- Final test accuracy report\n",
    "\n",
    "Demonstrating:\n",
    "- Deep learning fundamentals\n",
    "- PyTorch proficiency\n",
    "- Model design & regularization\n",
    "- Experimentation & evaluation\n",
    "\n",
    "Project Objectives:\n",
    "1. Build a deep neural network from scratch using PyTorch.\n",
    "2. Train on MNIST to achieve >94% test accuracy.\n",
    "3. Apply dropout for regularization and prevent overfitting.\n",
    "4. Visualize training progress and report final performance.\n",
    "5. Create clean, production-ready, and well-documented code."
   ]
  },
  {
   "cell_type": "code",
   "execution_count": 29,
   "id": "d5ffc241-38eb-4d01-96ba-df147cfb4297",
   "metadata": {},
   "outputs": [
    {
     "name": "stdout",
     "output_type": "stream",
     "text": [
      "Device: cpu\n"
     ]
    }
   ],
   "source": [
    "import torch # Importing PyTorch library\n",
    "import torch.nn as nn # Importing the neural network module from PyTorch\n",
    "import torch.optim as optim # Importing the optimization module from PyTorch\n",
    "import torchvision # Importing the vision module from PyTorch\n",
    "import torchvision.transforms as transforms # Importing the transforms module from PyTorch\n",
    "import torch.utils.data as data # Importing the data module from PyTorch\n",
    "import matplotlib.pyplot as plt # Importing the pyplot module from matplotlib\n",
    "import numpy as np # Importing the numpy library\n",
    "from a1 import build_deep_nn  # Importing the build_deep_nn function from task 1 python script a1.py\n",
    "\n",
    "# Set the device\n",
    "device = torch.device(\"cuda\" if torch.cuda.is_available() else \"cpu\")\n",
    "print(f'Device: {device}')"
   ]
  },
  {
   "cell_type": "code",
   "execution_count": 30,
   "id": "e7374426",
   "metadata": {},
   "outputs": [],
   "source": [
    "# Load MNIST dataset\n",
    "transform = transforms.Compose([ # Define transformations\n",
    "    transforms.ToTensor(),       # Converts images to PyTorch tensors\n",
    "    transforms.Normalize((0.5,), (0.5,)) # Normalizes pixel values to the range [-1, 1]\n",
    "])\n",
    "# Loading the training set and Applying transformations\n",
    "trainset = torchvision.datasets.MNIST(root='./data',  # Root directory of dataset\n",
    "                                       train=True,    # Training set\n",
    "                                       download=True, # Downloads the dataset if not found in the root directory\n",
    "                                       transform=transform) \n",
    "# Loading the test set and Applying transformations\n",
    "testset = torchvision.datasets.MNIST(root='./data', train=False, download=True, transform=transform)\n",
    "\n",
    "# Create a DataLoader for the training set\n",
    "trainloader = data.DataLoader(trainset,      # Loads the training set\n",
    "                              batch_size=64, # Batches data into groups of 64\n",
    "                              shuffle=True)  # Shuffles the data for better generalization\n",
    "# Create a DataLoader for the test set\n",
    "testloader = data.DataLoader(testset,       # Loads the test set\n",
    "                             batch_size=64, # Batches data into groups of 64\n",
    "                             shuffle=False) # Does not shuffle to maintain order for evaluation\n"
   ]
  },
  {
   "cell_type": "code",
   "execution_count": 31,
   "id": "8e08fb57",
   "metadata": {},
   "outputs": [],
   "source": [
    "# Define neural network architecture (StudentID: 46820108)\n",
    "num_hidden_layers = 3  # Number of hidden layers in the neural network\n",
    "hidden_layer_size = 50 # Number of neurons in each hidden layer\n",
    "dropout_rate = 0.7     # Dropout rate for dropout layers\n",
    "layer_options = [(hidden_layer_size, 0) for _ in range(num_hidden_layers - 1)] + [(hidden_layer_size, dropout_rate)] # Hidden layers with dropout\n"
   ]
  },
  {
   "cell_type": "code",
   "execution_count": 32,
   "id": "eef054dd",
   "metadata": {},
   "outputs": [
    {
     "name": "stdout",
     "output_type": "stream",
     "text": [
      "Sequential(\n",
      "  (0): Linear(in_features=784, out_features=50, bias=True)\n",
      "  (1): ReLU()\n",
      "  (2): Linear(in_features=50, out_features=50, bias=True)\n",
      "  (3): ReLU()\n",
      "  (4): Linear(in_features=50, out_features=50, bias=True)\n",
      "  (5): ReLU()\n",
      "  (6): Dropout(p=0.7, inplace=False)\n",
      "  (7): Linear(in_features=50, out_features=10, bias=True)\n",
      ")\n"
     ]
    }
   ],
   "source": [
    "# Build and initialize model\n",
    "model = build_deep_nn( # Build the neural network\n",
    "    28*28, # Input size of an MNIST image\n",
    "    layer_options, # Hidden layer sizes and dropout rates\n",
    "    10) # Number of Output classes\n",
    "model = model.to(device) # Move model to device\n",
    "print(model) # Print the model architecture\n"
   ]
  },
  {
   "cell_type": "code",
   "execution_count": 33,
   "id": "f7052b98",
   "metadata": {},
   "outputs": [],
   "source": [
    "# Define loss function and optimizer\n",
    "criterion = nn.CrossEntropyLoss()# Define the loss function CrossEntropyLoss which is used for multi-class classification\n",
    "optimizer = optim.Adam(model.parameters(), lr=0.001)# Define the optimizer Adam which is an adaptive learning rate optimization algorithm \n",
    "                                                    # - that adjusts learning rates dynamically for each parameter"
   ]
  },
  {
   "cell_type": "code",
   "execution_count": 34,
   "id": "676f3a07",
   "metadata": {},
   "outputs": [
    {
     "name": "stdout",
     "output_type": "stream",
     "text": [
      "Epoch 1/7, Loss: 0.8913\n",
      "Epoch 2/7, Loss: 0.5017\n",
      "Epoch 3/7, Loss: 0.4159\n",
      "Epoch 4/7, Loss: 0.3603\n",
      "Epoch 5/7, Loss: 0.3279\n",
      "Epoch 6/7, Loss: 0.3034\n",
      "Epoch 7/7, Loss: 0.2941\n"
     ]
    }
   ],
   "source": [
    "# Training the model\n",
    "epochs = 7 # Loops through the entire dataset 7 times for training the model\n",
    "train_losses = [] #Stores loss per epoch to track training progress\n",
    "for epoch in range(epochs): # Loop through the entire dataset\n",
    "    running_loss = 0.0 #initial loss value\n",
    "    for images, labels in trainloader: # Loop through the training set\n",
    "        images = images.view(images.shape[0], -1).to(device) # Flatten the images into a 1D tensor\n",
    "        labels = labels.to(device) # Move labels to device\n",
    "        \n",
    "        optimizer.zero_grad() # Clear the gradients to avoid accumulation\n",
    "        outputs = model(images)  # Determine the output of the model for the input images\n",
    "        loss = criterion(outputs, labels) # Calculate the loss\n",
    "        loss.backward() # Backpropagate the loss\n",
    "        optimizer.step() # Update the weights\n",
    "        running_loss += loss.item() # Accumulate the loss for future calculation\n",
    "    \n",
    "    train_losses.append(running_loss / len(trainloader)) # Calculate the average loss per epoch\n",
    "    print(f\"Epoch {epoch+1}/{epochs}, Loss: {running_loss/len(trainloader):.4f}\") # Print the loss per epoch\n"
   ]
  },
  {
   "cell_type": "code",
   "execution_count": 35,
   "id": "a3059f78",
   "metadata": {},
   "outputs": [
    {
     "name": "stdout",
     "output_type": "stream",
     "text": [
      "Test Accuracy of our model is: 94.80%\n"
     ]
    }
   ],
   "source": [
    "# Evaluate accuracy on test set\n",
    "def evaluate_model(model, testloader, device): # Function to evaluate the model\n",
    "    correct = 0 # initialize the number of correct predictions\n",
    "    total_labels = 0   # initialize the total number of labels\n",
    "    model.eval() # Set the model to evaluation mode\n",
    "    with torch.no_grad(): # Disable gradient calculation\n",
    "        for images, labels in testloader: # Iterate over the test set\n",
    "            images = images.view(images.shape[0], -1).to(device) # Flatten the images into a 1D tensor\n",
    "            labels = labels.to(device) # Move the labels to the device\n",
    "            outputs = model(images) \n",
    "            _, predicted = torch.max(outputs, 1) # Get the predicted class\n",
    "            total_labels += labels.size(0) # Count the number of labels\n",
    "            correct += (predicted == labels).sum().item() # Count the number of correct predictions\n",
    "    return 100 * correct / total_labels # Return the accuracy\n",
    "\n",
    "accuracy = evaluate_model(model, testloader, device)  # Evaluate the model on the test set\n",
    "print(f'Test Accuracy of our model is: {accuracy:.2f}%') # Print the test accuracy\n"
   ]
  },
  {
   "cell_type": "markdown",
   "id": "076239f6",
   "metadata": {},
   "source": [
    "# Conclusion\n",
    "This project successfully demonstrates the implementation of a compact powerful deep neural network for handwritten digit recognition using PyTorch, achieving an impressive 94.8% test accuracy on the MNIST dataset with only three hidden layers and approximately 40,000 parameters. By strategically applying 70% dropout in the final hidden layer and leveraging Adam optimization with normalized inputs, the model effectively balances learning capacity and regularization, resulting in stable training convergence and strong generalization. The clean, modular, and fully documented codebase—complete with reproducibility safeguards, loss visualization, and performance reporting—serves as a professional showcase of end-to-end machine learning workflow proficiency."
   ]
  }
 ],
 "metadata": {
  "kernelspec": {
   "display_name": "base",
   "language": "python",
   "name": "python3"
  },
  "language_info": {
   "codemirror_mode": {
    "name": "ipython",
    "version": 3
   },
   "file_extension": ".py",
   "mimetype": "text/x-python",
   "name": "python",
   "nbconvert_exporter": "python",
   "pygments_lexer": "ipython3",
   "version": "3.12.7"
  }
 },
 "nbformat": 4,
 "nbformat_minor": 5
}
